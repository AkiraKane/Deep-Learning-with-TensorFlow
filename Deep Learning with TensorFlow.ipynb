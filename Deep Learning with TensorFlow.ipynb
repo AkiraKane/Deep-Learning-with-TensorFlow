{
 "cells": [
  {
   "cell_type": "code",
   "execution_count": 26,
   "metadata": {
    "collapsed": true
   },
   "outputs": [],
   "source": [
    "import tensorflow as tf "
   ]
  },
  {
   "cell_type": "code",
   "execution_count": 27,
   "metadata": {
    "collapsed": true
   },
   "outputs": [],
   "source": [
    "# You can create constants in TF to hold specific values\n",
    "a = tf.constant(1)\n",
    "b = tf.constant(2)"
   ]
  },
  {
   "cell_type": "code",
   "execution_count": 28,
   "metadata": {
    "collapsed": true
   },
   "outputs": [],
   "source": [
    "# Of course you can add, multiply and compute on these as you like\n",
    "c = a + b \n",
    "d = a * b"
   ]
  },
  {
   "cell_type": "code",
   "execution_count": 29,
   "metadata": {
    "collapsed": true
   },
   "outputs": [],
   "source": [
    "# TF numbers are stored in \"tensors\", a fancy term for multidimensional arrays. If you pass TF a Python list, it can convert it.\n",
    "V1 = tf.constant([1.0, 2.0]) # Vector, 1-dimensional\n",
    "V2 = tf.constant([3.0, 4.0]) # Vector, 1-dimensional\n",
    "M = tf.constant([[1.0, 2.0]]) # Matrix, 2d\n",
    "N = tf.constant([[1.0, 2.0], [3.0, 4.0]]) # Matrix, 2d\n",
    "K = tf.constant([[[1.0, 2.0],[3.0, 4.0]]]) # Matrix, 3d"
   ]
  },
  {
   "cell_type": "code",
   "execution_count": 30,
   "metadata": {
    "collapsed": false
   },
   "outputs": [],
   "source": [
    "# You can also compute on tensors like you did scalars, but be careful of shape\n",
    "V3 = V1 + V2"
   ]
  },
  {
   "cell_type": "code",
   "execution_count": 31,
   "metadata": {
    "collapsed": true
   },
   "outputs": [],
   "source": [
    "# Operations are element-wise by default\n",
    "M2 = M * M "
   ]
  },
  {
   "cell_type": "code",
   "execution_count": 32,
   "metadata": {
    "collapsed": true
   },
   "outputs": [],
   "source": [
    "# True matrix mutiplicatin requires a special call\n",
    "NN = tf.matmul(N,N)"
   ]
  },
  {
   "cell_type": "code",
   "execution_count": 33,
   "metadata": {
    "collapsed": false
   },
   "outputs": [],
   "source": [
    "# The above code only defines a TF \"graph\", Nothing has been computed yet. For that, you first need to create a TF \"session\".\n",
    "sess = tf.Session()\n",
    "\n",
    "# Note the parallelism information TF reports to you when starting a session"
   ]
  },
  {
   "cell_type": "code",
   "execution_count": 34,
   "metadata": {
    "collapsed": false
   },
   "outputs": [
    {
     "name": "stdout",
     "output_type": "stream",
     "text": [
      "NN is: \n",
      "[[  7.  10.]\n",
      " [ 15.  22.]]\n"
     ]
    }
   ],
   "source": [
    "# Now you can run specific nodes of your graph, i.e. the variables you've named\n",
    "output = sess.run(NN)\n",
    "print \"NN is: \\n\", output "
   ]
  },
  {
   "cell_type": "code",
   "execution_count": 35,
   "metadata": {
    "collapsed": true
   },
   "outputs": [],
   "source": [
    "# Remember to close your session when you are done using it\n",
    "sess.close()"
   ]
  },
  {
   "cell_type": "code",
   "execution_count": 36,
   "metadata": {
    "collapsed": true
   },
   "outputs": [],
   "source": [
    "# Often, we work interactively, it's convenient to use a simplified session\n",
    "sess = tf.InteractiveSession()"
   ]
  },
  {
   "cell_type": "code",
   "execution_count": 37,
   "metadata": {
    "collapsed": false
   },
   "outputs": [
    {
     "name": "stdout",
     "output_type": "stream",
     "text": [
      "M2 is:  [[ 1.  4.]]\n"
     ]
    }
   ],
   "source": [
    "# Now we can compute any node\n",
    "print \"M2 is: \", M2.eval()"
   ]
  },
  {
   "cell_type": "code",
   "execution_count": 38,
   "metadata": {
    "collapsed": true
   },
   "outputs": [],
   "source": [
    "# TF \"variables\" can change value, useful for updating model weights.\n",
    "W = tf.Variable(0, name=\"weight\")"
   ]
  },
  {
   "cell_type": "code",
   "execution_count": 39,
   "metadata": {
    "collapsed": false
   },
   "outputs": [
    {
     "name": "stdout",
     "output_type": "stream",
     "text": [
      "W is: \n",
      "0\n"
     ]
    }
   ],
   "source": [
    "# But variables must be initialized by TF before use\n",
    "init_op = tf.initialize_all_variables()\n",
    "sess.run(init_op)\n",
    "\n",
    "print \"W is: \\n\", W.eval()"
   ]
  },
  {
   "cell_type": "code",
   "execution_count": 40,
   "metadata": {
    "collapsed": false
   },
   "outputs": [
    {
     "name": "stdout",
     "output_type": "stream",
     "text": [
      "W after adding a: \n",
      "1\n"
     ]
    }
   ],
   "source": [
    "W += a\n",
    "print \"W after adding a: \\n\", W.eval()"
   ]
  },
  {
   "cell_type": "code",
   "execution_count": 41,
   "metadata": {
    "collapsed": false
   },
   "outputs": [
    {
     "name": "stdout",
     "output_type": "stream",
     "text": [
      "W after adding a again: \n",
      "2\n"
     ]
    }
   ],
   "source": [
    "W += a\n",
    "print \"W after adding a again: \\n\", W.eval()"
   ]
  },
  {
   "cell_type": "code",
   "execution_count": 42,
   "metadata": {
    "collapsed": false
   },
   "outputs": [
    {
     "name": "stdout",
     "output_type": "stream",
     "text": [
      "E as defined:  4\n"
     ]
    }
   ],
   "source": [
    "# You can return or supply arbitrary nodes, i.e. check an intermediate value or sub your value in the middle of the computation\n",
    "E = d + b # 1 * 2 + 2 = 4\n",
    "\n",
    "print \"E as defined: \", E.eval()"
   ]
  },
  {
   "cell_type": "code",
   "execution_count": 43,
   "metadata": {
    "collapsed": false
   },
   "outputs": [
    {
     "name": "stdout",
     "output_type": "stream",
     "text": [
      "E and d:  [4, 2]\n"
     ]
    }
   ],
   "source": [
    "# Let's see what d was at the same time\n",
    "print \"E and d: \", sess.run([E,d])"
   ]
  },
  {
   "cell_type": "code",
   "execution_count": 45,
   "metadata": {
    "collapsed": false
   },
   "outputs": [
    {
     "name": "stdout",
     "output_type": "stream",
     "text": [
      " E with custom d=4: 6\n"
     ]
    }
   ],
   "source": [
    "# Use a custom d by specifying a dictionary\n",
    "print \"E with custom d=4:\", sess.run(E, feed_dict={d:4.})"
   ]
  },
  {
   "cell_type": "markdown",
   "metadata": {},
   "source": [
    "### Logistic Regression Model Building"
   ]
  },
  {
   "cell_type": "code",
   "execution_count": 46,
   "metadata": {
    "collapsed": true
   },
   "outputs": [],
   "source": [
    "import tensorflow as tf\n",
    "import numpy as np\n",
    "% matplotlib inline\n",
    "\n",
    "try:\n",
    "    from tqdm import tqdm\n",
    "except:\n",
    "    def tqdm(x, *args, **kwargs):\n",
    "        return x"
   ]
  },
  {
   "cell_type": "code",
   "execution_count": 47,
   "metadata": {
    "collapsed": true
   },
   "outputs": [],
   "source": [
    "# Set random seed\n",
    "np.random.seed(0)"
   ]
  },
  {
   "cell_type": "code",
   "execution_count": 51,
   "metadata": {
    "collapsed": false
   },
   "outputs": [
    {
     "name": "stdout",
     "output_type": "stream",
     "text": [
      "[[ 0.  0.  0. ...,  0.  0.  0.]\n",
      " [ 0.  0.  0. ...,  0.  0.  0.]\n",
      " [ 0.  0.  0. ...,  0.  0.  0.]\n",
      " ..., \n",
      " [ 0.  0.  0. ...,  0.  0.  0.]\n",
      " [ 0.  0.  0. ...,  0.  0.  0.]\n",
      " [ 0.  0.  0. ...,  0.  0.  0.]]\n",
      "0\n"
     ]
    }
   ],
   "source": [
    "# Load data \n",
    "data = np.load(\"data_with_labels.npz\")\n",
    "train = data[\"arr_0\"] / 255.\n",
    "labels = data[\"arr_1\"]\n",
    "\n",
    "# Look at some data\n",
    "print train[0]\n",
    "print labels[0]"
   ]
  },
  {
   "cell_type": "code",
   "execution_count": 53,
   "metadata": {
    "collapsed": true
   },
   "outputs": [],
   "source": [
    "import matplotlib.pyplot as plt \n",
    "plt.ion()\n",
    "\n",
    "# Let's look at a subplot of one of A in each font\n",
    "plt.figure(figsize=(6,6))\n",
    "f, plts = plt.subplots(5, sharex=True)\n",
    "c =91\n",
    "for i in range(5):\n",
    "    plts[i].pcolor(train[c + i*558], cmap=plt.cm.gray_r)"
   ]
  },
  {
   "cell_type": "code",
   "execution_count": 55,
   "metadata": {
    "collapsed": false
   },
   "outputs": [],
   "source": [
    "def to_onehot(labels, nclasses = 5):\n",
    "    outlabels = np.zeros((len(labels), nclasses))\n",
    "    for i, l in enumerate(labels):\n",
    "        outlabels[i,l] = 1\n",
    "    return outlabels\n",
    "\n",
    "onehot = to_onehot(labels)"
   ]
  },
  {
   "cell_type": "code",
   "execution_count": 57,
   "metadata": {
    "collapsed": false
   },
   "outputs": [
    {
     "name": "stderr",
     "output_type": "stream",
     "text": [
      "Exception AssertionError: AssertionError(\"Nesting violated for default stack of <type 'weakref'> objects\",) in <bound method InteractiveSession.__del__ of <tensorflow.python.client.session.InteractiveSession object at 0x10d0e8b50>> ignored\n"
     ]
    }
   ],
   "source": [
    "# Split data into trainig and validation\n",
    "indices = np.random.permutation(train.shape[0])\n",
    "valid_cnt = int(train.shape[0] * 0.1)\n",
    "test_idx, training_idx = indices[:valid_cnt], indices[valid_cnt:]\n",
    "test, train = train[test_idx,:], train[training_idx,:]\n",
    "onehot_test, onehot_train = onehot[test_idx,:], onehot[training_idx,:]\n",
    "\n",
    "sess = tf.InteractiveSession()"
   ]
  },
  {
   "cell_type": "code",
   "execution_count": 59,
   "metadata": {
    "collapsed": false
   },
   "outputs": [],
   "source": [
    "# These will be inputs, and inputs pixels, flattened\n",
    "x = tf.placeholder(\"float\", [None, 1296])\n",
    "\n",
    "# Known labels\n",
    "y_ = tf.placeholder(\"float\", [None, 5])\n",
    "\n",
    "# Variables\n",
    "W = tf.Variable(tf.zeros([1296, 5]))\n",
    "b = tf.Variable(tf.zeros([5]))"
   ]
  },
  {
   "cell_type": "code",
   "execution_count": 60,
   "metadata": {
    "collapsed": true
   },
   "outputs": [],
   "source": [
    "# Just Initialize\n",
    "sess.run(tf.initialize_all_variables())"
   ]
  },
  {
   "cell_type": "code",
   "execution_count": 61,
   "metadata": {
    "collapsed": true
   },
   "outputs": [],
   "source": [
    "# Define model \n",
    "y = tf.nn.softmax(tf.matmul(x,W) + b) "
   ]
  },
  {
   "cell_type": "code",
   "execution_count": 64,
   "metadata": {
    "collapsed": false
   },
   "outputs": [
    {
     "name": "stdout",
     "output_type": "stream",
     "text": [
      "0.298230081797\n",
      "0.211155384779\n"
     ]
    }
   ],
   "source": [
    "### End model specification, begin training code\n",
    "# Climb on cross-entropy\n",
    "\n",
    "cross_entropy = tf.reduce_mean(tf.nn.softmax_cross_entropy_with_logits(y+1e-50, y_))\n",
    "\n",
    "# How we train\n",
    "train_step = tf.train.GradientDescentOptimizer(0.02).minimize(cross_entropy)\n",
    "\n",
    "# Define accuracy \n",
    "correct_prediction = tf.equal(tf.argmax(y,1), tf.argmax(y_, 1))\n",
    "accuracy = tf.reduce_mean(tf.cast(correct_prediction, \"float\"))\n",
    "\n",
    "# Actually train \n",
    "epochs = 1000\n",
    "train_acc = np.zeros(epochs//10)\n",
    "test_acc = np.zeros(epochs//10)\n",
    "\n",
    "for i in tqdm(range(epochs)):\n",
    "    # Record summary data, and the accuracy \n",
    "    if i % 10 == 0:\n",
    "        # Check accuracy on train set\n",
    "        A = accuracy.eval(feed_dict={x:train.reshape([-1, 1296]), y_: onehot_train})\n",
    "        train_acc[i//10] = A\n",
    "        \n",
    "        # And now the validation set \n",
    "        A = accuracy.eval(feed_dict={x:test.reshape([-1, 1296]), y_: onehot_test})\n",
    "        test_acc[i//10] = A\n",
    "    train_step.run(feed_dict={x:train.reshape([-1,1296]), y_: onehot_train})\n",
    "\n",
    "# Notice that accuracy flattens out\n",
    "print train_acc[-1]\n",
    "print test_acc[-1]"
   ]
  },
  {
   "cell_type": "code",
   "execution_count": 65,
   "metadata": {
    "collapsed": false
   },
   "outputs": [
    {
     "data": {
      "image/png": "[encoded data removed]",
      "text/plain": [
       "<matplotlib.figure.Figure at 0x1029a6690>"
      ]
     },
     "metadata": {},
     "output_type": "display_data"
    },
    {
     "data": {
      "text/plain": [
       "<matplotlib.figure.Figure at 0x1187caed0>"
      ]
     },
     "metadata": {},
     "output_type": "display_data"
    },
    {
     "name": "stderr",
     "output_type": "stream",
     "text": [
      "/Users/AkiraKaneshiro/anaconda/lib/python2.7/site-packages/matplotlib/collections.py:590: FutureWarning: elementwise comparison failed; returning scalar instead, but in the future will perform elementwise comparison\n",
      "  if self._edgecolors == str('face'):\n"
     ]
    },
    {
     "data": {
      "image/png": "[encoded data removed]",
      "text/plain": [
       "<matplotlib.figure.Figure at 0x1187d6510>"
      ]
     },
     "metadata": {},
     "output_type": "display_data"
    }
   ],
   "source": [
    "%matplotlib inline\n",
    "# Plot the accuracy curves\n",
    "plt.figure(figsize=(6,6))\n",
    "plt.plot(train_acc, \"bo\")\n",
    "plt.plot(test_acc, \"rx\")\n",
    "\n",
    "# Look at a subplot of the weights for each font\n",
    "plt.figure(figsize=(6,6))\n",
    "f, plts = plt.subplots(5, sharex=True)\n",
    "for i in range(5):\n",
    "    plts[i].pcolor(W.eval()[:,i].reshape([36,36]))"
   ]
  },
  {
   "cell_type": "markdown",
   "metadata": {},
   "source": [
    "### Basic Neural Nets"
   ]
  },
  {
   "cell_type": "code",
   "execution_count": 66,
   "metadata": {
    "collapsed": false
   },
   "outputs": [
    {
     "name": "stderr",
     "output_type": "stream",
     "text": [
      "Exception AssertionError: AssertionError(\"Nesting violated for default stack of <type 'weakref'> objects\",) in <bound method InteractiveSession.__del__ of <tensorflow.python.client.session.InteractiveSession object at 0x10d0f3cd0>> ignored\n"
     ]
    }
   ],
   "source": [
    "import tensorflow as tf\n",
    "import numpy as np\n",
    "import math\n",
    "\n",
    "sess = tf.InteractiveSession()"
   ]
  },
  {
   "cell_type": "code",
   "execution_count": 68,
   "metadata": {
    "collapsed": false
   },
   "outputs": [
    {
     "name": "stdout",
     "output_type": "stream",
     "text": [
      "[-0.14887375 -1.02016234 -1.06843162 -1.04658628 -0.41900158]\n",
      "[ 0.02216339  1.04073119  1.14154613  1.09534287  0.17556232]\n"
     ]
    }
   ],
   "source": [
    "# Some simple constants\n",
    "x1 = tf.Variable(tf.truncated_normal([5], mean=3, stddev=1./math.sqrt(5)))\n",
    "x2 = tf.Variable(tf.truncated_normal([5], mean=-1, stddev=1./math.sqrt(5)))\n",
    "x3 = tf.Variable(tf.truncated_normal([5], mean=0, stddev=1./math.sqrt(5)))\n",
    "\n",
    "sess.run(tf.initialize_all_variables())\n",
    "\n",
    "# Squaring makes large values extreme (but positive). Be careful if you have negative values\n",
    "sqx2 = x2 * x2\n",
    "print x2.eval()\n",
    "print sqx2.eval()"
   ]
  },
  {
   "cell_type": "code",
   "execution_count": 69,
   "metadata": {
    "collapsed": false
   },
   "outputs": [
    {
     "name": "stdout",
     "output_type": "stream",
     "text": [
      "[ 3.19382405  3.01717424  3.30711412  2.51774788  2.71740389]\n",
      "[ 1.161219    1.10432076  1.19607592  0.92336482  0.99967694]\n"
     ]
    }
   ],
   "source": [
    "# Logarithm makes small values more pronouced (and negative). be careful that your algorithm can handle negative numbers\n",
    "logx1 = tf.log(x1)\n",
    "print x1.eval()\n",
    "print logx1.eval()"
   ]
  },
  {
   "cell_type": "code",
   "execution_count": 70,
   "metadata": {
    "collapsed": false
   },
   "outputs": [
    {
     "name": "stdout",
     "output_type": "stream",
     "text": [
      "[ 0.56187254  0.23261295  0.61573344 -0.16041182 -0.45613125]\n",
      "[ 0.6368857   0.55789244  0.64924753  0.45998281  0.38790402]\n"
     ]
    }
   ],
   "source": [
    "# Sigmoid is a common transformation in deep learnig. Extreme values get flattened to +1 or 0. Input closer to zero stay similar, sigmoid(0)=0.5\n",
    "sigx3 = tf.sigmoid(x3)\n",
    "print x3.eval()\n",
    "print sigx3.eval()"
   ]
  },
  {
   "cell_type": "code",
   "execution_count": 73,
   "metadata": {
    "collapsed": false
   },
   "outputs": [
    {
     "name": "stdout",
     "output_type": "stream",
     "text": [
      "[ 0.32685003  0.3368319   0.2531409   0.2501061   0.27555615]\n",
      "[-0.3527613  -0.29386708 -0.24080987 -0.11619806 -0.25711676]\n",
      "[ 0.49352255  0.51073956  0.50308269  0.53342706  0.50460976]\n"
     ]
    }
   ],
   "source": [
    "# We linearly combine multiple inputs, then transform\n",
    "w1 = tf.constant(0.1)\n",
    "w2 = tf.constant(0.2)\n",
    "sess.run(tf.initialize_all_variables())\n",
    "n1 = tf.sigmoid(w1*x1 + w2*x2)\n",
    "print (w1*x1).eval()\n",
    "print (w2*x2).eval()\n",
    "print n1.eval()"
   ]
  },
  {
   "cell_type": "markdown",
   "metadata": {},
   "source": [
    "### Single Hidden Layer Model"
   ]
  },
  {
   "cell_type": "code",
   "execution_count": 75,
   "metadata": {
    "collapsed": false
   },
   "outputs": [
    {
     "name": "stdout",
     "output_type": "stream",
     "text": [
      "[[ 0.  0.  0. ...,  0.  0.  0.]\n",
      " [ 0.  0.  0. ...,  0.  0.  0.]\n",
      " [ 0.  0.  0. ...,  0.  0.  0.]\n",
      " ..., \n",
      " [ 0.  0.  0. ...,  0.  0.  0.]\n",
      " [ 0.  0.  0. ...,  0.  0.  0.]\n",
      " [ 0.  0.  0. ...,  0.  0.  0.]]\n",
      "0\n"
     ]
    },
    {
     "name": "stderr",
     "output_type": "stream",
     "text": [
      "Exception AssertionError: AssertionError(\"Nesting violated for default stack of <type 'weakref'> objects\",) in <bound method InteractiveSession.__del__ of <tensorflow.python.client.session.InteractiveSession object at 0x115db6ed0>> ignored\n"
     ]
    }
   ],
   "source": [
    "import tensorflow as tf\n",
    "import numpy as np\n",
    "import math\n",
    "try:\n",
    "    from tqdm import tqdm\n",
    "except:\n",
    "    def tqdm(x, *args, **kwargs):\n",
    "        return x\n",
    "    \n",
    "# Set random seed\n",
    "np.random.seed(0)\n",
    "\n",
    "# Load data \n",
    "data = np.load(\"data_with_labels.npz\")\n",
    "train = data[\"arr_0\"] / 255.\n",
    "labels = data[\"arr_1\"]\n",
    "\n",
    "# Look at some data\n",
    "print train[0]\n",
    "print labels[0]\n",
    "\n",
    "import matplotlib.pyplot as plt \n",
    "plt.ion()\n",
    "\n",
    "def to_onehot(labels, nclasses = 5):\n",
    "    outlabels = np.zeros((len(labels), nclasses))\n",
    "    for i, l in enumerate(labels):\n",
    "        outlabels[i,l] = 1\n",
    "    return outlabels\n",
    "\n",
    "onehot = to_onehot(labels)\n",
    "\n",
    "# Split data into trainig and validation\n",
    "indices = np.random.permutation(train.shape[0])\n",
    "valid_cnt = int(train.shape[0] * 0.1)\n",
    "test_idx, training_idx = indices[:valid_cnt], indices[valid_cnt:]\n",
    "test, train = train[test_idx,:], train[training_idx,:]\n",
    "onehot_test, onehot_train = onehot[test_idx,:], onehot[training_idx,:]\n",
    "\n",
    "sess = tf.InteractiveSession()\n",
    "\n",
    "# These will be inputs, and inputs pixels, flattened\n",
    "x = tf.placeholder(\"float\", [None, 1296])\n",
    "\n",
    "# Known labels\n",
    "y_ = tf.placeholder(\"float\", [None, 5])\n",
    "\n",
    "# Hidden layer\n",
    "num_hidden = 128\n",
    "W1 = tf.Variable(tf.truncated_normal([1296,num_hidden], stddev=1./math.sqrt(1296)))\n",
    "b1 = tf.Variable(tf.constant(0.1, shape=[num_hidden]))\n",
    "h1 = tf.sigmoid(tf.matmul(x,W1) + b1)\n",
    "\n",
    "# Output Layer\n",
    "W2 = tf.Variable(tf.truncated_normal([num_hidden, 5], stddev=1./math.sqrt(5)))\n",
    "b2 = tf.Variable(tf.constant(0.1, shape=[5]))\n",
    "\n",
    "# Just Initialize\n",
    "sess.run(tf.initialize_all_variables())\n",
    "\n",
    "# Define model\n",
    "y = tf.nn.softmax(tf.matmul(h1,W2)+b2)"
   ]
  },
  {
   "cell_type": "code",
   "execution_count": 76,
   "metadata": {
    "collapsed": false
   },
   "outputs": [
    {
     "data": {
      "text/plain": [
       "[<matplotlib.lines.Line2D at 0x1167b7c50>]"
      ]
     },
     "execution_count": 76,
     "metadata": {},
     "output_type": "execute_result"
    },
    {
     "data": {
      "image/png": "[encoded data removed]",
      "text/plain": [
       "<matplotlib.figure.Figure at 0x1167a5f50>"
      ]
     },
     "metadata": {},
     "output_type": "display_data"
    }
   ],
   "source": [
    "### End model specification, begin training code \n",
    "# Climb on cross-entropy\n",
    "cross_entropy = tf.reduce_mean(tf.nn.softmax_cross_entropy_with_logits(y+1e-50, y_))\n",
    "\n",
    "# How we train\n",
    "train_step = tf.train.GradientDescentOptimizer(0.02).minimize(cross_entropy)\n",
    "\n",
    "# Define accuracy \n",
    "correct_prediction = tf.equal(tf.argmax(y,1), tf.argmax(y_, 1))\n",
    "accuracy = tf.reduce_mean(tf.cast(correct_prediction, \"float\"))\n",
    " \n",
    "# Actually train \n",
    "epochs = 5000\n",
    "train_acc = np.zeros(epochs//10)\n",
    "test_acc = np.zeros(epochs//10)\n",
    "\n",
    "for i in tqdm(range(epochs)):\n",
    "    # Record summary data, and the accuracy \n",
    "    if i % 10 == 0:\n",
    "        # Check accuracy on train set\n",
    "        A = accuracy.eval(feed_dict={x:train.reshape([-1, 1296]), y_: onehot_train})\n",
    "        train_acc[i//10] = A\n",
    "        \n",
    "        # And now the validation set \n",
    "        A = accuracy.eval(feed_dict={x:test.reshape([-1, 1296]), y_: onehot_test})\n",
    "        test_acc[i//10] = A\n",
    "    train_step.run(feed_dict={x:train.reshape([-1,1296]), y_: onehot_train})\n",
    "\n",
    "# Plot the accuracy curves\n",
    "plt.figure(figsize=(6,6))\n",
    "plt.plot(train_acc, \"bo\")\n",
    "plt.plot(test_acc, \"rx\")  "
   ]
  },
  {
   "cell_type": "code",
   "execution_count": 77,
   "metadata": {
    "collapsed": false
   },
   "outputs": [
    {
     "data": {
      "text/plain": [
       "<matplotlib.colorbar.Colorbar instance at 0x1181ff638>"
      ]
     },
     "execution_count": 77,
     "metadata": {},
     "output_type": "execute_result"
    },
    {
     "data": {
      "image/png": "[encoded data removed]",
      "text/plain": [
       "<matplotlib.figure.Figure at 0x115dbff50>"
      ]
     },
     "metadata": {},
     "output_type": "display_data"
    }
   ],
   "source": [
    "# Look at the final testing confusion matrix\n",
    "pred = np.argmax(y.eval(feed_dict={x:test.reshape([-1,1296]), y_:onehot_test}), axis=1)\n",
    "conf = np.zeros([5,5])\n",
    "for p, t in zip(pred, np.argmax(onehot_test, axis=1)):\n",
    "    conf[t,p] += 1\n",
    "\n",
    "plt.matshow(conf)\n",
    "plt.colorbar()"
   ]
  },
  {
   "cell_type": "code",
   "execution_count": 79,
   "metadata": {
    "collapsed": false
   },
   "outputs": [
    {
     "data": {
      "text/plain": [
       "<matplotlib.figure.Figure at 0x115da8310>"
      ]
     },
     "metadata": {},
     "output_type": "display_data"
    },
    {
     "data": {
      "image/png": "[encoded data removed]",
      "text/plain": [
       "<matplotlib.figure.Figure at 0x115da8510>"
      ]
     },
     "metadata": {},
     "output_type": "display_data"
    }
   ],
   "source": [
    "# Let's look at a subplot of some weights\n",
    "plt.figure(figsize=(6,6))\n",
    "f, plts = plt.subplots(4,8, sharex=True)\n",
    "for i in range(32):\n",
    "    plts[i//8, i%8].pcolormesh(W1.eval()[:,1].reshape([36,36]))"
   ]
  },
  {
   "cell_type": "markdown",
   "metadata": {},
   "source": [
    "### Multiple Hidden Layer Model"
   ]
  },
  {
   "cell_type": "code",
   "execution_count": 80,
   "metadata": {
    "collapsed": false
   },
   "outputs": [
    {
     "name": "stdout",
     "output_type": "stream",
     "text": [
      "[[ 0.  0.  0. ...,  0.  0.  0.]\n",
      " [ 0.  0.  0. ...,  0.  0.  0.]\n",
      " [ 0.  0.  0. ...,  0.  0.  0.]\n",
      " ..., \n",
      " [ 0.  0.  0. ...,  0.  0.  0.]\n",
      " [ 0.  0.  0. ...,  0.  0.  0.]\n",
      " [ 0.  0.  0. ...,  0.  0.  0.]]\n",
      "0\n"
     ]
    },
    {
     "name": "stderr",
     "output_type": "stream",
     "text": [
      "Exception AssertionError: AssertionError(\"Nesting violated for default stack of <type 'weakref'> objects\",) in <bound method InteractiveSession.__del__ of <tensorflow.python.client.session.InteractiveSession object at 0x115da8a50>> ignored\n"
     ]
    }
   ],
   "source": [
    "import tensorflow as tf\n",
    "import numpy as np\n",
    "import math\n",
    "try:\n",
    "    from tqdm import tqdm\n",
    "except:\n",
    "    def tqdm(x, *args, **kwargs):\n",
    "        return x\n",
    "    \n",
    "# Set random seed\n",
    "np.random.seed(0)\n",
    "\n",
    "# Load data \n",
    "data = np.load(\"data_with_labels.npz\")\n",
    "train = data[\"arr_0\"] / 255.\n",
    "labels = data[\"arr_1\"]\n",
    "\n",
    "# Look at some data\n",
    "print train[0]\n",
    "print labels[0]\n",
    "\n",
    "import matplotlib.pyplot as plt \n",
    "plt.ion()\n",
    "\n",
    "def to_onehot(labels, nclasses = 5):\n",
    "    outlabels = np.zeros((len(labels), nclasses))\n",
    "    for i, l in enumerate(labels):\n",
    "        outlabels[i,l] = 1\n",
    "    return outlabels\n",
    "\n",
    "onehot = to_onehot(labels)\n",
    "\n",
    "# Split data into trainig and validation\n",
    "indices = np.random.permutation(train.shape[0])\n",
    "valid_cnt = int(train.shape[0] * 0.1)\n",
    "test_idx, training_idx = indices[:valid_cnt], indices[valid_cnt:]\n",
    "test, train = train[test_idx,:], train[training_idx,:]\n",
    "onehot_test, onehot_train = onehot[test_idx,:], onehot[training_idx,:]\n",
    "\n",
    "sess = tf.InteractiveSession()\n",
    "\n",
    "# These will be inputs, and inputs pixels, flattened\n",
    "x = tf.placeholder(\"float\", [None, 1296])\n",
    "\n",
    "# Known labels\n",
    "y_ = tf.placeholder(\"float\", [None, 5])\n",
    "\n",
    "# Hidden layer 1\n",
    "num_hidden1 = 128\n",
    "W1 = tf.Variable(tf.truncated_normal([1296,num_hidden1], stddev=1./math.sqrt(1296)))\n",
    "b1 = tf.Variable(tf.constant(0.1, shape=[num_hidden1]))\n",
    "h1 = tf.sigmoid(tf.matmul(x,W1) + b1)\n",
    "\n",
    "# Hidden Layer 2\n",
    "num_hidden2 = 32\n",
    "W2 = tf.Variable(tf.truncated_normal([num_hidden1, num_hidden2], stddev= 2./math.sqrt(num_hidden1)))\n",
    "b2 = tf.Variable(tf.constant(0.2, shape=[num_hidden2]))\n",
    "h2 = tf.sigmoid(tf.matmul(h1,W2) + b2)\n",
    "\n",
    "# Output Layer\n",
    "W3 = tf.Variable(tf.truncated_normal([num_hidden2, 5], stddev=1./math.sqrt(5)))\n",
    "b3 = tf.Variable(tf.constant(0.1, shape=[5]))\n",
    "\n",
    "# Just Initialize\n",
    "sess.run(tf.initialize_all_variables())\n",
    "\n",
    "# Define model\n",
    "y = tf.nn.softmax(tf.matmul(h2,W3)+b3)"
   ]
  },
  {
   "cell_type": "code",
   "execution_count": null,
   "metadata": {
    "collapsed": true
   },
   "outputs": [],
   "source": [
    "### End model specification, begin training code \n",
    "# Climb on cross-entropy\n",
    "cross_entropy = tf.reduce_mean(tf.nn.softmax_cross_entropy_with_logits(y+1e-50, y_))\n",
    "\n",
    "# How we train\n",
    "train_step = tf.train.GradientDescentOptimizer(0.02).minimize(cross_entropy)\n",
    "\n",
    "# Define accuracy \n",
    "correct_prediction = tf.equal(tf.argmax(y,1), tf.argmax(y_, 1))\n",
    "accuracy = tf.reduce_mean(tf.cast(correct_prediction, \"float\"))\n",
    " \n",
    "# Actually train \n",
    "epochs = 25000\n",
    "train_acc = np.zeros(epochs//10)\n",
    "test_acc = np.zeros(epochs//10)\n",
    "\n",
    "for i in tqdm(range(epochs)):\n",
    "    # Record summary data, and the accuracy \n",
    "    if i % 10 == 0:\n",
    "        # Check accuracy on train set\n",
    "        A = accuracy.eval(feed_dict={x:train.reshape([-1, 1296]), y_: onehot_train})\n",
    "        train_acc[i//10] = A\n",
    "        \n",
    "        # And now the validation set \n",
    "        A = accuracy.eval(feed_dict={x:test.reshape([-1, 1296]), y_: onehot_test})\n",
    "        test_acc[i//10] = A\n",
    "    train_step.run(feed_dict={x:train.reshape([-1,1296]), y_: onehot_train})\n",
    "\n",
    "# Plot the accuracy curves\n",
    "plt.figure(figsize=(6,6))\n",
    "plt.plot(train_acc, \"bo\")\n",
    "plt.plot(test_acc, \"rx\") \n",
    "\n",
    "# Look at the final testing confusion matrix\n",
    "pred = np.argmax(y.eval(feed_dict={x:test.reshape([-1,1296]), y_:onehot_test}), axis=1)\n",
    "conf = np.zeros([5,5])\n",
    "for p, t in zip(pred, np.argmax(onehot_test, axis=1)):\n",
    "    conf[t,p] += 1\n",
    "\n",
    "plt.matshow(conf)\n",
    "plt.colorbar()\n",
    "\n",
    "# Let's look at a subplot of some weights\n",
    "plt.figure(figsize=(6,6))\n",
    "f, plts = plt.subplots(4,8, sharex=True)\n",
    "for i in range(32):\n",
    "    plts[i//8, i%8].pcolormesh(W1.eval()[:,1].reshape([36,36]))\n",
    "    \n",
    "# Examine the output weights\n",
    "plt.matshow(W3.eval()) \n",
    "plt.colorbar()\n",
    "\n",
    "# Save the weights\n",
    "saver = tf.train.Saver()\n",
    "saver.save(sess, \"mpl.ckpt\")\n",
    "\n",
    "# Restore\n",
    "saver.store(sess. \"mpl.ckpt\")"
   ]
  },
  {
   "cell_type": "markdown",
   "metadata": {},
   "source": [
    "### Convolutional Neural Networks"
   ]
  },
  {
   "cell_type": "code",
   "execution_count": 81,
   "metadata": {
    "collapsed": false
   },
   "outputs": [
    {
     "name": "stderr",
     "output_type": "stream",
     "text": [
      "Exception AssertionError: AssertionError(\"Nesting violated for default stack of <type 'weakref'> objects\",) in <bound method InteractiveSession.__del__ of <tensorflow.python.client.session.InteractiveSession object at 0x116cf3f90>> ignored\n"
     ]
    }
   ],
   "source": [
    "import tensorflow as tf\n",
    "import math\n",
    "import numpy as np\n",
    "\n",
    "sess = tf.InteractiveSession()\n",
    "\n",
    "# Make some fake data, 1 data points\n",
    "image = np.random.randint(10, size=[1,10,10]) + np.eye(10)*10\n",
    "\n",
    "# TensorFlow placeholer, None is for batch processing, -1 keeps same size, 10*10 is the shape, 1 is the number of \"channels\", like RGB coloes or Gray \n",
    "x = tf.placeholder(\"float\",[None, 10, 10])\n",
    "x_im = tf.reshape(x, [-1, 10, 10, 1])"
   ]
  },
  {
   "cell_type": "code",
   "execution_count": 83,
   "metadata": {
    "collapsed": false
   },
   "outputs": [
    {
     "data": {
      "text/plain": [
       "<matplotlib.colorbar.Colorbar instance at 0x1188377e8>"
      ]
     },
     "execution_count": 83,
     "metadata": {},
     "output_type": "execute_result"
    },
    {
     "data": {
      "image/png": "[encoded data removed]",
      "text/plain": [
       "<matplotlib.figure.Figure at 0x10f232050>"
      ]
     },
     "metadata": {},
     "output_type": "display_data"
    }
   ],
   "source": [
    "### Convolutional Layer\n",
    "# Window size to use, 3*3 here\n",
    "winx = 3\n",
    "winy = 3\n",
    "\n",
    "# How mnay features ro compute on the window\n",
    "num_filters = 2 \n",
    "\n",
    "# Weight shape should match window size, the \"1\" represents the number of input \"channels\" (colors)\n",
    "W1 = tf.Variable(tf.truncated_normal([winx, winy, 1, num_filters], stddev = 1./math.sqrt(winx*winy)))\n",
    "b1 = tf.Variable(tf.constant(0.1, shape=[num_filters]))\n",
    "\n",
    "# 3*3 convolution, Pad with zeros on edges.\n",
    "# Strides is how to step, here 1 pixel at a time\n",
    "xw = tf.nn.conv2d(x_im, W1, strides=[1,1,1,1], padding=\"SAME\")\n",
    "h1 = tf.nn.relu(xw+b1)\n",
    "\n",
    "# Remember to initialize!\n",
    "sess.run(tf.initialize_all_variables())\n",
    "\n",
    "# Peek inside\n",
    "H = h1.eval(feed_dict={x:image})\n",
    "\n",
    "# Let's take a look\n",
    "import matplotlib.pyplot as plt\n",
    "plt.ion()\n",
    "\n",
    "# Original\n",
    "plt.matshow(image[0])\n",
    "plt.colorbar()"
   ]
  },
  {
   "cell_type": "code",
   "execution_count": 84,
   "metadata": {
    "collapsed": false
   },
   "outputs": [
    {
     "data": {
      "text/plain": [
       "<function matplotlib.pyplot.colorbar>"
      ]
     },
     "execution_count": 84,
     "metadata": {},
     "output_type": "execute_result"
    },
    {
     "data": {
      "image/png": "[encoded data removed]",
      "text/plain": [
       "<matplotlib.figure.Figure at 0x10d3f2990>"
      ]
     },
     "metadata": {},
     "output_type": "display_data"
    }
   ],
   "source": [
    "# Conv channel 1\n",
    "plt.matshow(H[0,:,:,0])\n",
    "plt.colorbar"
   ]
  },
  {
   "cell_type": "code",
   "execution_count": 85,
   "metadata": {
    "collapsed": false
   },
   "outputs": [
    {
     "data": {
      "text/plain": [
       "<function matplotlib.pyplot.colorbar>"
      ]
     },
     "execution_count": 85,
     "metadata": {},
     "output_type": "execute_result"
    },
    {
     "data": {
      "image/png": "[encoded data removed]",
      "text/plain": [
       "<matplotlib.figure.Figure at 0x10d0f3e10>"
      ]
     },
     "metadata": {},
     "output_type": "display_data"
    }
   ],
   "source": [
    "# Conv channel 2\n",
    "plt.matshow(H[0,:,:,1])\n",
    "plt.colorbar"
   ]
  },
  {
   "cell_type": "code",
   "execution_count": 86,
   "metadata": {
    "collapsed": false
   },
   "outputs": [
    {
     "data": {
      "text/plain": [
       "<matplotlib.colorbar.Colorbar instance at 0x1146795f0>"
      ]
     },
     "execution_count": 86,
     "metadata": {},
     "output_type": "execute_result"
    },
    {
     "data": {
      "image/png": "[encoded data removed]",
      "text/plain": [
       "<matplotlib.figure.Figure at 0x1029a63d0>"
      ]
     },
     "metadata": {},
     "output_type": "display_data"
    }
   ],
   "source": [
    "### Pooling Layer\n",
    "# \"Max\" pooling keeps best of 2*2 square in h1 output, ksize defines size of this block\n",
    "# \"VALID\" padding means incomplete squares are not used, Stride of 2*2 means no overlap of 2*2 blocks\n",
    "p1 = tf.nn.max_pool(h1, ksize=[1,2,2,1], strides=[1,2,2,1], padding=\"VALID\")\n",
    "\n",
    "# We automatically determine the size\n",
    "p1_size = np.product([s.value for s in p1.get_shape()[1:]])\n",
    "\n",
    "# Need to flatten convolutional output for use in a dense layer, -1 chooses appropriate shape to keep overall size the same.\n",
    "p1f = tf.reshape(p1, [-1,p1_size])\n",
    "\n",
    "# Pooling Layer before flattening. Note how it's only 5*5, because we took the best of every 2*2 window\n",
    "P = p1.eval(feed_dict={x:image})\n",
    "plt.matshow(P[0,:,:,0])\n",
    "plt.colorbar()"
   ]
  },
  {
   "cell_type": "markdown",
   "metadata": {},
   "source": [
    "### Deep CNN"
   ]
  },
  {
   "cell_type": "code",
   "execution_count": 87,
   "metadata": {
    "collapsed": false
   },
   "outputs": [
    {
     "name": "stdout",
     "output_type": "stream",
     "text": [
      "[[ 0.  0.  0. ...,  0.  0.  0.]\n",
      " [ 0.  0.  0. ...,  0.  0.  0.]\n",
      " [ 0.  0.  0. ...,  0.  0.  0.]\n",
      " ..., \n",
      " [ 0.  0.  0. ...,  0.  0.  0.]\n",
      " [ 0.  0.  0. ...,  0.  0.  0.]\n",
      " [ 0.  0.  0. ...,  0.  0.  0.]]\n",
      "0\n"
     ]
    },
    {
     "name": "stderr",
     "output_type": "stream",
     "text": [
      "Exception AssertionError: AssertionError(\"Nesting violated for default stack of <type 'weakref'> objects\",) in <bound method InteractiveSession.__del__ of <tensorflow.python.client.session.InteractiveSession object at 0x114187ed0>> ignored\n"
     ]
    }
   ],
   "source": [
    "import tensorflow as tf\n",
    "import numpy as np\n",
    "import math\n",
    "try:\n",
    "    from tqdm import tqdm\n",
    "except:\n",
    "    def tqdm(x, *args, **kwargs):\n",
    "        return x\n",
    "    \n",
    "# Set random seed\n",
    "np.random.seed(0)\n",
    "\n",
    "# Load data \n",
    "data = np.load(\"data_with_labels.npz\")\n",
    "train = data[\"arr_0\"] / 255.\n",
    "labels = data[\"arr_1\"]\n",
    "\n",
    "# Look at some data\n",
    "print train[0]\n",
    "print labels[0]\n",
    "\n",
    "import matplotlib.pyplot as plt \n",
    "plt.ion()\n",
    "\n",
    "def to_onehot(labels, nclasses = 5):\n",
    "    outlabels = np.zeros((len(labels), nclasses))\n",
    "    for i, l in enumerate(labels):\n",
    "        outlabels[i,l] = 1\n",
    "    return outlabels\n",
    "\n",
    "onehot = to_onehot(labels)\n",
    "\n",
    "# Split data into trainig and validation\n",
    "indices = np.random.permutation(train.shape[0])\n",
    "valid_cnt = int(train.shape[0] * 0.1)\n",
    "test_idx, training_idx = indices[:valid_cnt], indices[valid_cnt:]\n",
    "test, train = train[test_idx,:], train[training_idx,:]\n",
    "onehot_test, onehot_train = onehot[test_idx,:], onehot[training_idx,:]\n",
    "\n",
    "sess = tf.InteractiveSession()\n",
    "\n",
    "# There will be inputs\n",
    "## Input pixals, image with one channel (gray)\n",
    "x = tf.placeholder(\"float\",[None, 36, 36])\n",
    "# Note that -1 is for reshaping\n",
    "x_im = tf.reshape(x, [-1, 36, 36, 1])\n",
    "## Known labels. None works during variable creation to be specified size\n",
    "y_ = tf.placeholder(\"float\",[None,5])\n",
    "\n",
    "# Avoid numberical precision problems"
   ]
  },
  {
   "cell_type": "code",
   "execution_count": 88,
   "metadata": {
    "collapsed": true
   },
   "outputs": [],
   "source": [
    "# Conv layer 1\n",
    "num_filters = 4\n",
    "winx = 5\n",
    "winy = 5\n",
    "W1 = tf.Variable(tf.truncated_normal([winx, winy, 1, num_filters], stddev=1./math.sqrt(winx*winy)))\n",
    "b1 = tf.Variable(tf.constant(0.1, shape=[num_filters]))\n",
    "\n",
    "# 5*5 convolution, pad with zeros on edges\n",
    "xw = tf.nn.conv2d(x_im, W1, strides=[1,1,1,1], padding=\"SAME\")\n",
    "h1 = tf.nn.relu(xw+b1)\n",
    "\n",
    "# 2*2 Max pooling, no padding o edges\n",
    "p1 = tf.nn.max_pool(h1, ksize=[1,2,2,1], strides=[1,2,2,1], padding=\"VALID\")\n",
    "\n",
    "# Need to flatten convolutional output for use in dense layer.\n",
    "p1_size = np.product([s.value for s in p1.get_shape()[1:]])\n",
    "p1f = tf.reshape(p1, [-1, p1_size])"
   ]
  },
  {
   "cell_type": "code",
   "execution_count": 89,
   "metadata": {
    "collapsed": true
   },
   "outputs": [],
   "source": [
    "# Dense layer\n",
    "num_hidden = 32\n",
    "W2 = tf.Variable(tf.truncated_normal([p1_size, num_hidden], stddev=2./math.sqrt(p1_size)))\n",
    "b2 = tf.Variable(tf.constant(0.2, shape=[num_hidden]))\n",
    "h2 = tf.nn.relu(tf.matmul(p1f,W2) + b2)\n",
    "\n",
    "# Ouput layer \n",
    "W3 = tf.Variable(tf.truncated_normal([num_hidden,5], stddev=1./math.sqrt(num_hidden)))\n",
    "b3 = tf.Variable(tf.constant(0.1, shape=[5]))\n",
    "\n",
    "keep_prob = tf.placeholder(\"float\")\n",
    "h2_drop = tf.nn.dropout(h2,keep_prob)\n",
    "\n",
    "# Just initialize\n",
    "sess.run(tf.initialize_all_variables())\n",
    "\n",
    "# Define model\n",
    "y = tf.nn.softmax(tf.matmul(h2_drop, W3) + b3)\n",
    "\n",
    "### End model specification, begin training code"
   ]
  },
  {
   "cell_type": "code",
   "execution_count": null,
   "metadata": {
    "collapsed": true
   },
   "outputs": [],
   "source": [
    "# Climb on cross entropy\n",
    "cross_entropy = tf.reduce_mean(tf.nn.softmax.cross_entropy_with_logits(y+1e-50, y_))\n",
    "\n",
    "# How we train\n",
    "train_step = tf.train.GradientDescentOptimizer(0.01).minimize(cross_entropy)\n",
    "\n",
    "# Define accuracy\n",
    "correct_prediction = tf.equal(tf.argmax(y,1), tf.argmax(y_,1))\n",
    "accuracy = tf.reduce_mean(tf.cast(correct_prediction,\"float\"))\n",
    "\n",
    "# Actually train \n",
    "epochs = 5000\n",
    "train_acc = np.zeros(epochs//10)\n",
    "test_acc = np.zeros(epochs//10)\n",
    "for i in tqdm(range(epochs), ascii=True):\n",
    "    # Record summary data, and the accuracy\n",
    "    if i % 10 == 0:\n",
    "        # check accuracy on train set\n",
    "        A = accuracy.eval(feed_dict={x:train, y_: onehot_train, keep_prob=1.0})\n",
    "        train_acc[i//10] = A\n",
    "        # and now the validation set\n",
    "        A = accuracy.eval(feed_dict={x:test, y_:onehot_test, keep_prob=1.0})\n",
    "        test_acc[i//10] = A\n",
    "    train_step.run(feed_dict={x:train, y_:onehot_train, keep_prob=0.5})\n",
    "\n",
    "# Plot the accuracy curves\n",
    "plt.figure = (figsize=(6,6))\n",
    "plt.plot(train_acc, \"bo\")\n",
    "plt.plot(test_acc, \"rx\")\n",
    "\n",
    "# Look at the final testing confusion matrix\n",
    "pred = np.argmax(y.eval(feed_dict={x:test, keep_prob:1.0, y_:onehot_test}), axis=1)\n",
    "conf = np.zeros([5,5])\n",
    "for p, t in zip(pred, np.argmax(onehot_test, axis=1)):\n",
    "    conf[t,p] += 1\n",
    "\n",
    "plt.matshow(conf)\n",
    "plt.colorbar()\n",
    "\n",
    "# Let's look at a subplot of some weights\n",
    "f, plts = plt.subplots(4)\n",
    "for i in range(4):\n",
    "    plts[i].matshow(W1.eval()[:,:,0,i])\n",
    "\n",
    "# Examine the output weights\n",
    "plt.matshow(W3.eval())\n",
    "plt.colorbar()\n",
    "\n",
    "# Save the weights\n",
    "saver = tf.train.Saver()\n",
    "saver.save(sess,\"conv1.ckpt\")\n",
    "\n",
    "# Restore\n",
    "saver.load(sess, \"conv1.ckpt\")\n",
    "\n",
    "# Or use Numpy manually\n",
    "def save_all(name=\"conv1\"):\n",
    "    np.savez.compressed(name, W1.eval(), b1.eval(), W2.eval(), b2.eval(), W3.eval(), b3.eval())\n",
    "\n",
    "save_all()\n",
    "\n",
    "def load_all(name = \"conv1.npz\"):\n",
    "    data = np.load(name)\n",
    "    sess.run(W1.assign(data[\"arr_0\"]))\n",
    "    sess.run(b1.assign(data[\"arr_1\"]))\n",
    "    sess.run(W2.assign(data[\"arr_2\"]))\n",
    "    sess.run(b2.assign(data[\"arr_3\"]))\n",
    "    sess.run(W3.assign(data[\"arr_4\"]))\n",
    "    sess.run(b3.assign(data[\"arr_5\"]))\n",
    "    \n",
    "load_all()"
   ]
  },
  {
   "cell_type": "markdown",
   "metadata": {},
   "source": [
    "### Deeper CNN"
   ]
  },
  {
   "cell_type": "code",
   "execution_count": 90,
   "metadata": {
    "collapsed": false
   },
   "outputs": [
    {
     "name": "stdout",
     "output_type": "stream",
     "text": [
      "[[ 0.  0.  0. ...,  0.  0.  0.]\n",
      " [ 0.  0.  0. ...,  0.  0.  0.]\n",
      " [ 0.  0.  0. ...,  0.  0.  0.]\n",
      " ..., \n",
      " [ 0.  0.  0. ...,  0.  0.  0.]\n",
      " [ 0.  0.  0. ...,  0.  0.  0.]\n",
      " [ 0.  0.  0. ...,  0.  0.  0.]]\n",
      "0\n"
     ]
    },
    {
     "name": "stderr",
     "output_type": "stream",
     "text": [
      "Exception AssertionError: AssertionError(\"Nesting violated for default stack of <type 'weakref'> objects\",) in <bound method InteractiveSession.__del__ of <tensorflow.python.client.session.InteractiveSession object at 0x117d24250>> ignored\n"
     ]
    }
   ],
   "source": [
    "import tensorflow as tf\n",
    "import numpy as np\n",
    "import math\n",
    "try:\n",
    "    from tqdm import tqdm\n",
    "except:\n",
    "    def tqdm(x, *args, **kwargs):\n",
    "        return x\n",
    "    \n",
    "# Set random seed\n",
    "np.random.seed(0)\n",
    "\n",
    "# Load data \n",
    "data = np.load(\"data_with_labels.npz\")\n",
    "train = data[\"arr_0\"] / 255.\n",
    "labels = data[\"arr_1\"]\n",
    "\n",
    "# Look at some data\n",
    "print train[0]\n",
    "print labels[0]\n",
    "\n",
    "import matplotlib.pyplot as plt \n",
    "plt.ion()\n",
    "\n",
    "def to_onehot(labels, nclasses = 5):\n",
    "    outlabels = np.zeros((len(labels), nclasses))\n",
    "    for i, l in enumerate(labels):\n",
    "        outlabels[i,l] = 1\n",
    "    return outlabels\n",
    "\n",
    "onehot = to_onehot(labels)\n",
    "\n",
    "# Split data into trainig and validation\n",
    "indices = np.random.permutation(train.shape[0])\n",
    "valid_cnt = int(train.shape[0] * 0.1)\n",
    "test_idx, training_idx = indices[:valid_cnt], indices[valid_cnt:]\n",
    "test, train = train[test_idx,:], train[training_idx,:]\n",
    "onehot_test, onehot_train = onehot[test_idx,:], onehot[training_idx,:]\n",
    "\n",
    "sess = tf.InteractiveSession()\n",
    "\n",
    "# There will be inputs\n",
    "## Input pixals, image with one channel (gray)\n",
    "x = tf.placeholder(\"float\",[None, 36, 36])\n",
    "# Note that -1 is for reshaping\n",
    "x_im = tf.reshape(x, [-1, 36, 36, 1])\n",
    "## Known labels. None works during variable creation to be specified size\n",
    "y_ = tf.placeholder(\"float\",[None,5])"
   ]
  },
  {
   "cell_type": "code",
   "execution_count": 92,
   "metadata": {
    "collapsed": false
   },
   "outputs": [],
   "source": [
    "# Conv layer 1\n",
    "num_filters1 = 16\n",
    "winx1 = 3\n",
    "winy1 = 3\n",
    "W1 = tf.Variable(tf.truncated_normal([winx1, winy1, 1, num_filters1], stddev=1./math.sqrt(winx1*winy1)))\n",
    "b1 = tf.Variable(tf.constant(0.1, shape=[num_filters1]))\n",
    "\n",
    "# 3*3 convolution, pad with zeros on edges\n",
    "xw = tf.nn.conv2d(x_im, W1, strides=[1,1,1,1], padding=\"SAME\")\n",
    "h1 = tf.nn.relu(xw + b1)\n",
    "\n",
    "# 2*2 Max pooling, no padding on egdes\n",
    "p1 = tf.nn.max_pool(h1, ksize=[1,2,2,1], strides=[1,2,2,1], padding=\"VALID\")"
   ]
  },
  {
   "cell_type": "code",
   "execution_count": 94,
   "metadata": {
    "collapsed": false
   },
   "outputs": [],
   "source": [
    "# Conv layer 2\n",
    "num_filters2 = 4\n",
    "winx2 = 3\n",
    "winy2 = 3\n",
    "W2 = tf.Variable(tf.truncated_normal([winx2, winy2, num_filters1, num_filters2], stddev=1./math.sqrt(winx2*winy2)))\n",
    "b2 = tf.Variable(tf.constant(0.1, shape=[num_filters2]))\n",
    "\n",
    "# 3*3 convolution, pad with zeros on edges\n",
    "plw2 = tf.nn.conv2d(p1, W2, strides=[1,1,1,1], padding=\"SAME\")\n",
    "h1 = tf.nn.relu(plw2 + b2)\n",
    "\n",
    "# 2*2 Max pooling, no padding on edges\n",
    "p2 = tf.nn.max_pool(h1, ksize=[1,2,2,1], strides=[1,2,2,1], padding=\"VALID\")\n",
    "\n",
    "# Need to flatten convolutional output\n",
    "p2_size = np.product([s.value for s in p2.get_shape()[1:]])\n",
    "p2f = tf.reshape(p2, [-1, p2_size])"
   ]
  },
  {
   "cell_type": "code",
   "execution_count": 95,
   "metadata": {
    "collapsed": true
   },
   "outputs": [],
   "source": [
    "# Dense layer\n",
    "num_hidden = 32\n",
    "W3 = tf.Variable(tf.truncated_normal([p2_size, num_hidden], stddev=2./math.sqrt(p2_size)))\n",
    "b3 = tf.Variable(tf.constant(0.2, shape=[num_hidden]))\n",
    "h3 = tf.nn.relu(tf.matmul(p2f,W3) + b3)\n",
    "\n",
    "# Drop out training\n",
    "keep_prob = tf.placeholder(\"float\")\n",
    "h3_drop = tf.nn.dropout(h3,keep_prob)\n",
    "\n",
    "# Ouput layer \n",
    "W4 = tf.Variable(tf.truncated_normal([num_hidden,5], stddev=1./math.sqrt(num_hidden)))\n",
    "b4 = tf.Variable(tf.constant(0.1, shape=[5]))\n",
    "\n",
    "# Just initialize\n",
    "sess.run(tf.initialize_all_variables())\n",
    "\n",
    "# Define model\n",
    "y = tf.nn.softmax(tf.matmul(h3_drop, W4) + b4)\n",
    "\n",
    "### End model specification, begin training code"
   ]
  },
  {
   "cell_type": "code",
   "execution_count": null,
   "metadata": {
    "collapsed": true
   },
   "outputs": [],
   "source": [
    "# Climb on cross entropy\n",
    "cross_entropy = tf.reduce_mean(tf.nn.softmax.cross_entropy_with_logits(y+1e-50, y_))\n",
    "\n",
    "# How we train\n",
    "train_step = tf.train.GradientDescentOptimizer(0.01).minimize(cross_entropy)\n",
    "\n",
    "# Define accuracy\n",
    "correct_prediction = tf.equal(tf.argmax(y,1), tf.argmax(y_,1))\n",
    "accuracy = tf.reduce_mean(tf.cast(correct_prediction,\"float\"))\n",
    "\n",
    "# Actually train \n",
    "epochs = 6000\n",
    "train_acc = np.zeros(epochs//10)\n",
    "test_acc = np.zeros(epochs//10)\n",
    "for i in tqdm(range(epochs), ascii=True):\n",
    "    # Record summary data, and the accuracy\n",
    "    if i % 10 == 0:\n",
    "        # check accuracy on train set\n",
    "        A = accuracy.eval(feed_dict={x:train, y_: onehot_train, keep_prob=1.0})\n",
    "        train_acc[i//10] = A\n",
    "        # and now the validation set\n",
    "        A = accuracy.eval(feed_dict={x:test, y_:onehot_test, keep_prob=1.0})\n",
    "        test_acc[i//10] = A\n",
    "    train_step.run(feed_dict={x:train, y_:onehot_train, keep_prob=0.5})\n",
    "\n",
    "# Plot the accuracy curves\n",
    "plt.figure = (figsize=(6,6))\n",
    "plt.plot(train_acc, \"bo\")\n",
    "plt.plot(test_acc, \"rx\")\n",
    "\n",
    "# Look at the final testing confusion matrix\n",
    "pred = np.argmax(y.eval(feed_dict={x:test, keep_prob:1.0, y_:onehot_test}), axis=1)\n",
    "conf = np.zeros([5,5])\n",
    "for p, t in zip(pred, np.argmax(onehot_test, axis=1)):\n",
    "    conf[t,p] += 1\n",
    "\n",
    "plt.matshow(conf)\n",
    "plt.colorbar()\n",
    "\n",
    "# Let's look at a subplot of some weights\n",
    "f, plts = plt.subplots(4)\n",
    "for i in range(4):\n",
    "    plts[i].matshow(W1.eval()[:,:,0,i])\n",
    "\n",
    "# Examine the output weights\n",
    "plt.matshow(W3.eval())\n",
    "plt.colorbar()\n",
    "\n",
    "# Save the weights\n",
    "saver = tf.train.Saver()\n",
    "saver.save(sess,\"conv2a.ckpt\")\n",
    "\n",
    "# Restore\n",
    "saver.load(sess, \"conv2a.ckpt\")\n",
    "\n",
    "# Or use Numpy manually\n",
    "def save_all(name=\"conv1\"):\n",
    "    np.savez.compressed(name, W1.eval(), b1.eval(), W2.eval(), b2.eval(), W3.eval(), b3.eval())\n",
    "\n",
    "save_all()\n",
    "\n",
    "def load_all(name = \"conv1.npz\"):\n",
    "    data = np.load(name)\n",
    "    sess.run(W1.assign(data[\"arr_0\"]))\n",
    "    sess.run(b1.assign(data[\"arr_1\"]))\n",
    "    sess.run(W2.assign(data[\"arr_2\"]))\n",
    "    sess.run(b2.assign(data[\"arr_3\"]))\n",
    "    sess.run(W3.assign(data[\"arr_4\"]))\n",
    "    sess.run(b3.assign(data[\"arr_5\"]))\n",
    "    \n",
    "load_all()"
   ]
  },
  {
   "cell_type": "markdown",
   "metadata": {},
   "source": [
    "### Recurrent Neural Network (RNNs)"
   ]
  },
  {
   "cell_type": "code",
   "execution_count": 98,
   "metadata": {
    "collapsed": false
   },
   "outputs": [],
   "source": [
    "import tensorflow as tf\n",
    "import numpy as np\n",
    "import datetime\n",
    "import math\n",
    "try:\n",
    "    from tqdm import tqdm\n",
    "except:\n",
    "    def tqdm(x, *args, **kwargs):\n",
    "        return x\n",
    "\n",
    "# read in data\n",
    "filename = \"weather.npz\"\n",
    "data = np.load(filename)\n",
    "daily = data[\"daily\"]\n",
    "weekly = data[\"weekly\"]\n",
    "\n",
    "num_weeks = len(weekly)\n",
    "dates = np.array([datetime.datetime.strptime(str(int(d)), \"%Y%m%d\") for d in weekly[:,0]])\n",
    "\n",
    "def assign_season(date):\n",
    "    \"\"\"Assign season based on meteorological season\n",
    "       Spring - from Mar 1 to May 31\n",
    "       Summer - from Jun 1 to Aug 31\n",
    "       Autumn - from Sep 1 to Nov 30\n",
    "       Winter - from Dec 1 to Feb 28 (Feb 29 in a leap year)\n",
    "    \"\"\"\n",
    "    month = date.month\n",
    "    # Spring = 0\n",
    "    if 3 <= month < 6:\n",
    "        season = 0\n",
    "    # Summer = 1\n",
    "    elif 6 <= month < 9:\n",
    "        season = 1\n",
    "    # Autumn = 2\n",
    "    elif 9 <= month < 12:\n",
    "        season = 2\n",
    "    # Winter = 3\n",
    "    elif month == 12 or month < 3:\n",
    "        season = 3\n",
    "    return season\n",
    "\n",
    "# There are 4 seasons\n",
    "num_classes = 4\n",
    "\n",
    "# and 5 variables\n",
    "num_inputs = 5\n",
    "\n",
    "# and a state of 11 numbers \n",
    "state_size = 11\n",
    "\n",
    "labels = np.zeros([num_weeks, num_classes])\n",
    "\n",
    "# read and convert to one-hot\n",
    "for i, d in enumerate(dates):\n",
    "    labels[i, assign_season(d)] = 1\n",
    "\n",
    "# extract and scale training data\n",
    "train = weekly[:, 1:]\n",
    "train = train - np.average(train, axis=0)\n",
    "train = train / train.std(axis=0)"
   ]
  },
  {
   "cell_type": "code",
   "execution_count": 100,
   "metadata": {
    "collapsed": false
   },
   "outputs": [
    {
     "name": "stderr",
     "output_type": "stream",
     "text": [
      "Exception AssertionError: AssertionError(\"Nesting violated for default stack of <type 'weakref'> objects\",) in <bound method InteractiveSession.__del__ of <tensorflow.python.client.session.InteractiveSession object at 0x118163790>> ignored\n"
     ]
    }
   ],
   "source": [
    "# Startup TensorFlow\n",
    "sess = tf.InteractiveSession()\n",
    "\n",
    "# These will be inputs\n",
    "x = tf.placeholder(\"float\", [None, num_inputs])\n",
    "\n",
    "# TF likes a funky input to RNN\n",
    "x_ = tf.reshape(x, [1, num_weeks, num_inputs])\n",
    "\n",
    "# Known labels, None works during variable creation to be unspecified size.\n",
    "y_ = tf.placeholder(\"float\", [None, num_classes])\n",
    "\n",
    "cell = tf.nn.rnn_cell.BasicRNNCell(state_size)\n",
    "outputs, states = tf.nn.dynamic_rnn(cell, x_, dtype=tf.nn.dtypes.float32, initial_state=None)\n",
    "W1 = tf.Variable(tf.truncated_normal([state_size,num_classes], stddev=1./math.sqrt(num_inputs)))\n",
    "b1 = tf.Variable(tf.constant(0.1, shape=[num_classes]))\n",
    "\n",
    "# reshape the output for traditional use\n",
    "h1 = tf.reshape(outputs,[-1, state_size])\n",
    "\n",
    "# Just initialize\n",
    "sess.run(tf.initialize_all_variables())\n",
    "\n",
    "# Logistic regression as usual\n",
    "y = tf.nn.softmax(tf.matmul(h1,W1))\n",
    "\n",
    "# Climb on cross-entropy\n",
    "cross_entropy = tf.reduce_mean(tf.nn.softmax_cross_entropy_with_logits(y+1e-50, y_))\n",
    "\n",
    "# How we train\n",
    "train_step = tf.train.GradientDescentOptimizer(0.01).minimize(cross_entropy)\n",
    "\n",
    "# Define accuracy\n",
    "correct_prediction = tf.equal(tf.argmax(y,1), tf.argmax(y_,1))\n",
    "accuracy = tf.reduce_mean(tf.cast(correct_prediction, \"float\")) "
   ]
  },
  {
   "cell_type": "code",
   "execution_count": 102,
   "metadata": {
    "collapsed": false
   },
   "outputs": [],
   "source": [
    "# Actually train \n",
    "epochs = 100\n",
    "train_acc = np.zeros(epochs//10)\n",
    "test_acc = np.zeros(epochs//10)\n",
    "for i in tqdm(range(epochs), ascii=True):\n",
    "    # Record summary data, and the accuracy\n",
    "    if i % 10 == 0:\n",
    "        # check accuracy on train set\n",
    "        A = accuracy.eval(feed_dict={x:train, y_: labels})\n",
    "        train_acc[i//10] = A\n",
    "    train_step.run(feed_dict={x:train, y_:labels})"
   ]
  },
  {
   "cell_type": "code",
   "execution_count": 103,
   "metadata": {
    "collapsed": false
   },
   "outputs": [
    {
     "data": {
      "text/plain": [
       "[<matplotlib.lines.Line2D at 0x10fcec710>]"
      ]
     },
     "execution_count": 103,
     "metadata": {},
     "output_type": "execute_result"
    },
    {
     "data": {
      "image/png": "[encoded data removed]",
      "text/plain": [
       "<matplotlib.figure.Figure at 0x1146b4a50>"
      ]
     },
     "metadata": {},
     "output_type": "display_data"
    }
   ],
   "source": [
    "import matplotlib.pyplot as plt\n",
    "plt.ion()\n",
    "plt.plot(train_acc)"
   ]
  },
  {
   "cell_type": "markdown",
   "metadata": {},
   "source": [
    "### skflow"
   ]
  },
  {
   "cell_type": "code",
   "execution_count": 115,
   "metadata": {
    "collapsed": false
   },
   "outputs": [
    {
     "name": "stdout",
     "output_type": "stream",
     "text": [
      "Collecting http://github.com/tensorflow/skflow/archive/master.zip\n",
      "  Downloading http://github.com/tensorflow/skflow/archive/master.zip (253kB)\n",
      "\u001b[K    100% |████████████████████████████████| 256kB 465kB/s \n",
      "\u001b[?25h  Requirement already satisfied (use --upgrade to upgrade): skflow==0.1.0 from http://github.com/tensorflow/skflow/archive/master.zip in ./anaconda/lib/python2.7/site-packages\n",
      "Requirement already satisfied (use --upgrade to upgrade): sklearn in ./anaconda/lib/python2.7/site-packages (from skflow==0.1.0)\n",
      "Requirement already satisfied (use --upgrade to upgrade): scipy in ./anaconda/lib/python2.7/site-packages (from skflow==0.1.0)\n",
      "Requirement already satisfied (use --upgrade to upgrade): numpy in ./anaconda/lib/python2.7/site-packages (from skflow==0.1.0)\n",
      "Requirement already satisfied (use --upgrade to upgrade): scikit-learn in ./anaconda/lib/python2.7/site-packages (from sklearn->skflow==0.1.0)\n"
     ]
    }
   ],
   "source": [
    "!pip install http://github.com/tensorflow/skflow/archive/master.zip"
   ]
  },
  {
   "cell_type": "code",
   "execution_count": 133,
   "metadata": {
    "collapsed": false
   },
   "outputs": [
    {
     "name": "stdout",
     "output_type": "stream",
     "text": [
      "[[ 0.  0.  0. ...,  0.  0.  0.]\n",
      " [ 0.  0.  0. ...,  0.  0.  0.]\n",
      " [ 0.  0.  0. ...,  0.  0.  0.]\n",
      " ..., \n",
      " [ 0.  0.  0. ...,  0.  0.  0.]\n",
      " [ 0.  0.  0. ...,  0.  0.  0.]\n",
      " [ 0.  0.  0. ...,  0.  0.  0.]]\n",
      "0\n"
     ]
    },
    {
     "name": "stderr",
     "output_type": "stream",
     "text": [
      "Exception AssertionError: AssertionError(\"Nesting violated for default stack of <type 'weakref'> objects\",) in <bound method InteractiveSession.__del__ of <tensorflow.python.client.session.InteractiveSession object at 0x1181a5a50>> ignored\n"
     ]
    }
   ],
   "source": [
    "import tensorflow as tf\n",
    "import numpy as np\n",
    "import math\n",
    "import tensorflow.contrib.learn as skflow\n",
    "import sklearn\n",
    "from sklearn import metrics\n",
    "try:\n",
    "    from tqdm import tqdm\n",
    "except:\n",
    "    def tqdm(x, *args, **kwargs):\n",
    "        return x\n",
    "\n",
    "# Seed the data\n",
    "np.random.seed(0)\n",
    "\n",
    "# Load data\n",
    "data = np.load('data_with_labels.npz')\n",
    "train = data['arr_0']/255.\n",
    "labels = data['arr_1']\n",
    "\n",
    "# Look at some data\n",
    "print(train[0])\n",
    "print(labels[0])\n",
    "\n",
    "# If you have matplotlib installed\n",
    "import matplotlib.pyplot as plt\n",
    "plt.ion()\n",
    "\n",
    "# Split data into training and validation\n",
    "indices = np.random.permutation(train.shape[0])\n",
    "valid_cnt = int(train.shape[0] * 0.1)\n",
    "test_idx, training_idx = indices[:valid_cnt],\\\n",
    "                         indices[valid_cnt:]\n",
    "test, train = train[test_idx,:],\\\n",
    "              train[training_idx,:]\n",
    "test_labels, train_labels = labels[test_idx],\\\n",
    "                        labels[training_idx]\n",
    "\n",
    "sess = tf.InteractiveSession()"
   ]
  },
  {
   "cell_type": "code",
   "execution_count": 144,
   "metadata": {
    "collapsed": false
   },
   "outputs": [
    {
     "name": "stderr",
     "output_type": "stream",
     "text": [
      "WARNING:tensorflow:TensorFlowLinearClassifier class is deprecated. Please consider using LinearClassifier as an alternative.\n",
      "WARNING:tensorflow:TensorFlowLinearClassifier class is deprecated. Please consider using LinearClassifier as an alternative.\n",
      "WARNING:tensorflow:continue_training argument in TensorFlowLinearClassifier is now ignored.\n",
      "WARNING:tensorflow:continue_training argument in TensorFlowLinearClassifier is now ignored.\n",
      "WARNING:tensorflow:Change warning: `feature_columns` will be required after 2016-08-01.\n",
      "Instructions for updating:\n",
      "Pass `tf.contrib.learn.infer_real_valued_columns_from_input(x)` or `tf.contrib.learn.infer_real_valued_columns_from_input_fn(input_fn)` as `feature_columns`, where `x` or `input_fn` is your argument to `fit`, `evaluate`, or `predict`.\n",
      "WARNING:tensorflow:Change warning: `feature_columns` will be required after 2016-08-01.\n",
      "Instructions for updating:\n",
      "Pass `tf.contrib.learn.infer_real_valued_columns_from_input(x)` or `tf.contrib.learn.infer_real_valued_columns_from_input_fn(input_fn)` as `feature_columns`, where `x` or `input_fn` is your argument to `fit`, `evaluate`, or `predict`.\n",
      "WARNING:tensorflow:Using temporary folder as model directory: /var/folders/g5/hzd1pljn4bq1_m6rbp0416zh0000gn/T/tmpz5shD3\n",
      "WARNING:tensorflow:Using temporary folder as model directory: /var/folders/g5/hzd1pljn4bq1_m6rbp0416zh0000gn/T/tmpz5shD3\n"
     ]
    }
   ],
   "source": [
    "# Logistic Regression\n",
    "# steps is number of total batches\n",
    "# steps/batch_size = num_epochs\n",
    "classifier = skflow.TensorFlowLinearClassifier(\n",
    "            n_classes=5,\n",
    "            steps=1000,\n",
    "            optimizer='Adam',\n",
    "            learning_rate=0.01,\n",
    "            continue_training=True)\n",
    "\n",
    "# One line training\n",
    "classifier.fit(train.reshape([-1,36*36]),train_labels)\n",
    "\n",
    "# sklearn compatible accuracy\n",
    "sklearn.metrics.accuracy_score(test_labels, classifier.predict(test.reshape([-1, 36*36])))"
   ]
  },
  {
   "cell_type": "code",
   "execution_count": 139,
   "metadata": {
    "collapsed": false
   },
   "outputs": [
    {
     "name": "stderr",
     "output_type": "stream",
     "text": [
      "WARNING:tensorflow:TensorFlowDNNClassifier class is deprecated. Please consider using DNNClassifier as an alternative.\n",
      "WARNING:tensorflow:TensorFlowDNNClassifier class is deprecated. Please consider using DNNClassifier as an alternative.\n",
      "WARNING:tensorflow:continue_training argument in TensorFlowDNNClassifier is now ignored.\n",
      "WARNING:tensorflow:continue_training argument in TensorFlowDNNClassifier is now ignored.\n",
      "WARNING:tensorflow:Change warning: `feature_columns` will be required after 2016-08-01.\n",
      "Instructions for updating:\n",
      "Pass `tf.contrib.learn.infer_real_valued_columns_from_input(x)` or `tf.contrib.learn.infer_real_valued_columns_from_input_fn(input_fn)` as `feature_columns`, where `x` or `input_fn` is your argument to `fit`, `evaluate`, or `predict`.\n",
      "WARNING:tensorflow:Change warning: `feature_columns` will be required after 2016-08-01.\n",
      "Instructions for updating:\n",
      "Pass `tf.contrib.learn.infer_real_valued_columns_from_input(x)` or `tf.contrib.learn.infer_real_valued_columns_from_input_fn(input_fn)` as `feature_columns`, where `x` or `input_fn` is your argument to `fit`, `evaluate`, or `predict`.\n",
      "WARNING:tensorflow:Using temporary folder as model directory: /var/folders/g5/hzd1pljn4bq1_m6rbp0416zh0000gn/T/tmpQGwdY0\n",
      "WARNING:tensorflow:Using temporary folder as model directory: /var/folders/g5/hzd1pljn4bq1_m6rbp0416zh0000gn/T/tmpQGwdY0\n"
     ]
    }
   ],
   "source": [
    "# Dense nural net\n",
    "classifier = skflow.TensorFlowDNNClassifier(\n",
    "            hidden_units=[10,5],\n",
    "            n_classes=5,\n",
    "            steps=1000,\n",
    "            optimizer='Adam',\n",
    "            learning_rate=0.01,\n",
    "            continue_training=True)\n",
    "\n",
    "classifier.fit(train.reshape([-1,36*36]),train_labels)\n",
    "\n",
    "# Simple accuracy\n",
    "sklearn.metrics.accuracy_score(test_labels, classifier.predict(test.reshape([-1, 36*36])))\n",
    "\n",
    "# Confusion is easy\n",
    "conf = metrics.confusion_matrix((train_labels, classifier.predict(train.reshape([-1, 36*36]))))\n",
    "print(conf)"
   ]
  },
  {
   "cell_type": "code",
   "execution_count": 146,
   "metadata": {
    "collapsed": false
   },
   "outputs": [
    {
     "name": "stderr",
     "output_type": "stream",
     "text": [
      "WARNING:tensorflow:Using temporary folder as model directory: /var/folders/g5/hzd1pljn4bq1_m6rbp0416zh0000gn/T/tmp1dqdBx\n",
      "WARNING:tensorflow:Using temporary folder as model directory: /var/folders/g5/hzd1pljn4bq1_m6rbp0416zh0000gn/T/tmp1dqdBx\n",
      "WARNING:tensorflow:Setting feature info to TensorSignature(dtype=tf.float32, shape=TensorShape([Dimension(None), Dimension(36), Dimension(36)]), is_sparse=False)\n",
      "WARNING:tensorflow:Setting feature info to TensorSignature(dtype=tf.float32, shape=TensorShape([Dimension(None), Dimension(36), Dimension(36)]), is_sparse=False)\n",
      "WARNING:tensorflow:Setting targets info to TensorSignature(dtype=tf.float32, shape=TensorShape([Dimension(None), Dimension(5)]), is_sparse=False)\n",
      "WARNING:tensorflow:Setting targets info to TensorSignature(dtype=tf.float32, shape=TensorShape([Dimension(None), Dimension(5)]), is_sparse=False)\n",
      "WARNING:tensorflow:conv2d (from tensorflow.contrib.learn.python.learn.ops.conv_ops) is deprecated and will be removed after 2016-08-15.\n",
      "Instructions for updating:\n",
      "Please use tf.contrib.layers.conv2d instead.\n",
      "WARNING:tensorflow:conv2d (from tensorflow.contrib.learn.python.learn.ops.conv_ops) is deprecated and will be removed after 2016-08-15.\n",
      "Instructions for updating:\n",
      "Please use tf.contrib.layers.conv2d instead.\n",
      "WARNING:tensorflow:dnn (from tensorflow.contrib.learn.python.learn.ops.dnn_ops) is deprecated and will be removed after 2016-08-01.\n",
      "Instructions for updating:\n",
      "Please use tf.contrib.layers.stack instead.\n",
      "WARNING:tensorflow:dnn (from tensorflow.contrib.learn.python.learn.ops.dnn_ops) is deprecated and will be removed after 2016-08-01.\n",
      "Instructions for updating:\n",
      "Please use tf.contrib.layers.stack instead.\n",
      "WARNING:tensorflow:learn.ops.dnn is deprecated,     please use contrib.layers.dnn.\n",
      "WARNING:tensorflow:learn.ops.dnn is deprecated,     please use contrib.layers.dnn.\n",
      "WARNING:tensorflow:dropout (from tensorflow.contrib.learn.python.learn.ops.dropout_ops) is deprecated and will be removed after 2016-08-15.\n",
      "Instructions for updating:\n",
      "Please use tf.contrib.layers.dropout instead.\n",
      "WARNING:tensorflow:dropout (from tensorflow.contrib.learn.python.learn.ops.dropout_ops) is deprecated and will be removed after 2016-08-15.\n",
      "Instructions for updating:\n",
      "Please use tf.contrib.layers.dropout instead.\n",
      "WARNING:tensorflow:conv2d (from tensorflow.contrib.learn.python.learn.ops.conv_ops) is deprecated and will be removed after 2016-08-15.\n",
      "Instructions for updating:\n",
      "Please use tf.contrib.layers.conv2d instead.\n",
      "WARNING:tensorflow:conv2d (from tensorflow.contrib.learn.python.learn.ops.conv_ops) is deprecated and will be removed after 2016-08-15.\n",
      "Instructions for updating:\n",
      "Please use tf.contrib.layers.conv2d instead.\n",
      "WARNING:tensorflow:dnn (from tensorflow.contrib.learn.python.learn.ops.dnn_ops) is deprecated and will be removed after 2016-08-01.\n",
      "Instructions for updating:\n",
      "Please use tf.contrib.layers.stack instead.\n",
      "WARNING:tensorflow:dnn (from tensorflow.contrib.learn.python.learn.ops.dnn_ops) is deprecated and will be removed after 2016-08-01.\n",
      "Instructions for updating:\n",
      "Please use tf.contrib.layers.stack instead.\n",
      "WARNING:tensorflow:learn.ops.dnn is deprecated,     please use contrib.layers.dnn.\n",
      "WARNING:tensorflow:learn.ops.dnn is deprecated,     please use contrib.layers.dnn.\n",
      "WARNING:tensorflow:dropout (from tensorflow.contrib.learn.python.learn.ops.dropout_ops) is deprecated and will be removed after 2016-08-15.\n",
      "Instructions for updating:\n",
      "Please use tf.contrib.layers.dropout instead.\n",
      "WARNING:tensorflow:dropout (from tensorflow.contrib.learn.python.learn.ops.dropout_ops) is deprecated and will be removed after 2016-08-15.\n",
      "Instructions for updating:\n",
      "Please use tf.contrib.layers.dropout instead.\n"
     ]
    },
    {
     "ename": "AttributeError",
     "evalue": "'TensorFlowEstimator' object has no attribute 'get_tensor_value'",
     "output_type": "error",
     "traceback": [
      "\u001b[0;31m---------------------------------------------------------------------------\u001b[0m",
      "\u001b[0;31mAttributeError\u001b[0m                            Traceback (most recent call last)",
      "\u001b[0;32m<ipython-input-146-07b7575901cc>\u001b[0m in \u001b[0;36m<module>\u001b[0;34m()\u001b[0m\n\u001b[1;32m     29\u001b[0m \u001b[0;34m\u001b[0m\u001b[0m\n\u001b[1;32m     30\u001b[0m \u001b[0;31m# Convolutional Layer Weights\u001b[0m\u001b[0;34m\u001b[0m\u001b[0;34m\u001b[0m\u001b[0m\n\u001b[0;32m---> 31\u001b[0;31m \u001b[0;32mprint\u001b[0m \u001b[0mclassifier\u001b[0m\u001b[0;34m.\u001b[0m\u001b[0mget_tensor_value\u001b[0m\u001b[0;34m(\u001b[0m\u001b[0;34m\"conv_layer/convolution/filters:0\"\u001b[0m\u001b[0;34m)\u001b[0m\u001b[0;34m\u001b[0m\u001b[0m\n\u001b[0m\u001b[1;32m     32\u001b[0m \u001b[0;32mprint\u001b[0m \u001b[0mclassifier\u001b[0m\u001b[0;34m.\u001b[0m\u001b[0mget_tensor_value\u001b[0m\u001b[0;34m(\u001b[0m\u001b[0;34m\"conv_layer/convolution/bias:0\"\u001b[0m\u001b[0;34m)\u001b[0m\u001b[0;34m\u001b[0m\u001b[0m\n\u001b[1;32m     33\u001b[0m \u001b[0;34m\u001b[0m\u001b[0m\n",
      "\u001b[0;31mAttributeError\u001b[0m: 'TensorFlowEstimator' object has no attribute 'get_tensor_value'"
     ]
    }
   ],
   "source": [
    "# Convolutional net\n",
    "def conv_skflow(X, y):\n",
    "    X = tf.reshape(X, [-1, 36, 36, 1])\n",
    "    # conv layer will compute 4 features for each 5*5 patch\n",
    "    with tf.variable_scope(\"conv_layer\"):\n",
    "        # 5*5 convolution, pad with zeros on edges. \n",
    "        h1 = skflow.ops.conv2d(X, n_filters=4, filter_shape=[5,5], bias=True, activation=tf.nn.relu)\n",
    "        # 2*2 Max pooling, no padding on edges\n",
    "        p1 = tf.nn.max_pool(h1, ksize=[1,2,2,1], strides=[1,2,2,1], padding=\"VALID\")\n",
    "        # Need to flatten conv output for use in dense layer\n",
    "        p1_size = np.product([s.value for s in p1.get_shape()[1:]])\n",
    "        plf = tf.reshape(p1, [-1, p1_size])\n",
    "        # densely connected layer with 32 neurons and dropout\n",
    "        h_fc1 = skflow.ops.dnn(plf, [32], activation=tf.nn.relu, dropout=0.5)\n",
    "        return skflow.models.logistic_regression(h_fc1, y)\n",
    "\n",
    "# Use generic estimator with our function\n",
    "classifier = skflow.TensorFlowEstimator(\n",
    "    model_fn = conv_skflow,\n",
    "    n_classes = 5,\n",
    "    steps = 1000,\n",
    "    optimizer = \"Adam\",\n",
    "    learning_rate = 0.01,\n",
    "    continue_training = True)\n",
    "classifier.fit(train, train_labels)\n",
    "\n",
    "# Simple accuracy\n",
    "metrics.accuracy_score(test_labels, classifier.predict(test))\n",
    "\n",
    "# Convolutional Layer Weights\n",
    "print classifier.get_tensor_value(\"conv_layer/convolution/filters:0\")\n",
    "print classifier.get_tensor_value(\"conv_layer/convolution/bias:0\")\n",
    "\n",
    "# Dense Layer\n",
    "print classifier.get_tensor_value(\"dnn/layer0/Linear/Matrix:0\")\n",
    "\n",
    "# Logistic weights\n",
    "print classifier.get_tensor_value(\"logistic_regression/weights:0\")"
   ]
  },
  {
   "cell_type": "markdown",
   "metadata": {},
   "source": [
    "### RNNs in skflow"
   ]
  },
  {
   "cell_type": "code",
   "execution_count": 147,
   "metadata": {
    "collapsed": true
   },
   "outputs": [],
   "source": [
    "import tensorflow as tf\n",
    "import numpy as np\n",
    "import datetime\n",
    "import math\n",
    "try:\n",
    "    from tqdm import tqdm\n",
    "except:\n",
    "    def tqdm(x, *args, **kwargs):\n",
    "        return x\n",
    "\n",
    "# read in data\n",
    "filename = \"weather.npz\"\n",
    "data = np.load(filename)\n",
    "daily = data[\"daily\"]\n",
    "weekly = data[\"weekly\"]\n",
    "\n",
    "num_weeks = len(weekly)\n",
    "dates = np.array([datetime.datetime.strptime(str(int(d)), \"%Y%m%d\") for d in weekly[:,0]])\n",
    "\n",
    "def assign_season(date):\n",
    "    \"\"\"Assign season based on meteorological season\n",
    "       Spring - from Mar 1 to May 31\n",
    "       Summer - from Jun 1 to Aug 31\n",
    "       Autumn - from Sep 1 to Nov 30\n",
    "       Winter - from Dec 1 to Feb 28 (Feb 29 in a leap year)\n",
    "    \"\"\"\n",
    "    month = date.month\n",
    "    # Spring = 0\n",
    "    if 3 <= month < 6:\n",
    "        season = 0\n",
    "    # Summer = 1\n",
    "    elif 6 <= month < 9:\n",
    "        season = 1\n",
    "    # Autumn = 2\n",
    "    elif 9 <= month < 12:\n",
    "        season = 2\n",
    "    # Winter = 3\n",
    "    elif month == 12 or month < 3:\n",
    "        season = 3\n",
    "    return season\n",
    "\n",
    "# There are 4 seasons\n",
    "num_classes = 4\n",
    "\n",
    "# and 5 variables\n",
    "num_inputs = 5\n",
    "\n",
    "# and a state of 11 numbers \n",
    "state_size = 11\n",
    "\n",
    "labels = np.zeros([num_weeks, num_classes])\n",
    "\n",
    "# read and convert to one-hot\n",
    "for i, d in enumerate(dates):\n",
    "    labels[i, assign_season(d)] = 1\n",
    "\n",
    "# extract and scale training data\n",
    "train = weekly[:, 1:]\n",
    "train = train - np.average(train, axis=0)\n",
    "train = train / train.std(axis=0)"
   ]
  },
  {
   "cell_type": "code",
   "execution_count": 150,
   "metadata": {
    "collapsed": false
   },
   "outputs": [
    {
     "name": "stderr",
     "output_type": "stream",
     "text": [
      "WARNING:tensorflow:Using temporary folder as model directory: /var/folders/g5/hzd1pljn4bq1_m6rbp0416zh0000gn/T/tmpPMk9Q7\n",
      "WARNING:tensorflow:Using temporary folder as model directory: /var/folders/g5/hzd1pljn4bq1_m6rbp0416zh0000gn/T/tmpPMk9Q7\n",
      "WARNING:tensorflow:Setting feature info to TensorSignature(dtype=tf.float32, shape=TensorShape([Dimension(None), Dimension(5)]), is_sparse=False)\n",
      "WARNING:tensorflow:Setting feature info to TensorSignature(dtype=tf.float32, shape=TensorShape([Dimension(None), Dimension(5)]), is_sparse=False)\n",
      "WARNING:tensorflow:Setting targets info to TensorSignature(dtype=tf.float32, shape=TensorShape([Dimension(None), Dimension(4)]), is_sparse=False)\n",
      "WARNING:tensorflow:Setting targets info to TensorSignature(dtype=tf.float32, shape=TensorShape([Dimension(None), Dimension(4)]), is_sparse=False)\n"
     ]
    },
    {
     "name": "stdout",
     "output_type": "stream",
     "text": [
      "[[ 444   84  419  208]\n",
      " [  20 1037   94    0]\n",
      " [ 199  156  648  115]\n",
      " [  63    0   57  998]]\n"
     ]
    }
   ],
   "source": [
    "import tensorflow.contrib.learn as skflow\n",
    "from sklearn import metrics\n",
    "\n",
    "# To pass in data correctly\n",
    "def listify(x):\n",
    "    return [x]\n",
    "\n",
    "# Undo the one_hot encoding\n",
    "classes = [assign_season(d) for d in dates]\n",
    "\n",
    "# one line model\n",
    "classifier = skflow.TensorFlowRNNClassifier(rnn_size=11, n_classes=4, cell_type=\"rnn\", input_op_fn=listify, num_layers=8,\\\n",
    "                                           steps=1000, optimizer=\"Adam\",learning_rate=0.01, continue_training=True)\n",
    "\n",
    "# Train model\n",
    "classifier.fit(train, classes)\n",
    "\n",
    "# Simple accuracy\n",
    "metrics.accuracy_score(classes, classifier.predict(train))\n",
    "\n",
    "# Confusion is easy in skflow\n",
    "conf = metrics.confusion_matrix(classes, classifier.predict(train))\n",
    "print(conf)"
   ]
  },
  {
   "cell_type": "code",
   "execution_count": null,
   "metadata": {
    "collapsed": true
   },
   "outputs": [],
   "source": []
  }
 ],
 "metadata": {
  "kernelspec": {
   "display_name": "Python 2",
   "language": "python",
   "name": "python2"
  },
  "language_info": {
   "codemirror_mode": {
    "name": "ipython",
    "version": 2
   },
   "file_extension": ".py",
   "mimetype": "text/x-python",
   "name": "python",
   "nbconvert_exporter": "python",
   "pygments_lexer": "ipython2",
   "version": "2.7.12"
  }
 },
 "nbformat": 4,
 "nbformat_minor": 0
}
